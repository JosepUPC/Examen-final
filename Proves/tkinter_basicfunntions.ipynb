{
 "cells": [
  {
   "cell_type": "code",
   "execution_count": null,
   "id": "0c22f024",
   "metadata": {},
   "outputs": [],
   "source": [
    "## funcio bàsica per tal d'enviar unes questions, els primer program que faré\n",
    "\n",
    "import tkinter.messagebox as msg\n",
    "\n",
    "varMdg= msg.askquestion(\"titol\",\"el missatge que es vol enviar\",detail=\"detall del missatge\",icon=\"question\",type=\"yesno\",default=\"yes\")\n",
    "# si la resposta és \"yes\" es mostra un missatge informatiu, si és \"no\" es mostra un missatge d'advertència\n",
    "\n",
    "if varMdg == \"yes\":\n",
    "    msg.showinfo(\"titol\",\"el missatge que es vol enviar\",detail=\"detall del missatge\",icon=\"info\")\n",
    "    # si la resposta és \"no\" es mostra un missatge d'advertència\n",
    "else:\n",
    "    msg.showwarning(\"titol\",\"el missatge que es vol enviar\",detail=\"detall del missatge\",icon=\"warning\")"
   ]
  },
  {
   "cell_type": "code",
   "execution_count": null,
   "id": "f2847b01",
   "metadata": {},
   "outputs": [
    {
     "data": {
      "text/plain": [
       "'supercalifrajilosticoespialidosus'"
      ]
     },
     "execution_count": 8,
     "metadata": {},
     "output_type": "execute_result"
    }
   ],
   "source": [
    "## funció bàsica per tal de rebre dades d'entrada, tant numèriques com de text\n",
    "import tkinter.simpledialog as sd\n",
    "\n",
    "options =dict(show=\"*\")\n",
    "\n",
    "varFloat= sd.askfloat(\"titol\",\"el missatge que es vol enviar\",initialvalue=0.0,minvalue=0.0,maxvalue=100.0)\n",
    "varInt = sd.askinteger(\"titol\",\"el missatge que es vol enviar\",initialvalue=0,minvalue=0,maxvalue=100)\n",
    "varStg= sd.askstring(\"Contrasenya\",\"introduïu la contrasenya\", **options)"
   ]
  },
  {
   "cell_type": "code",
   "execution_count": null,
   "id": "ba2af253",
   "metadata": {},
   "outputs": [
    {
     "name": "stdout",
     "output_type": "stream",
     "text": [
      "Fitxer obert: C:/Users/98esq/Desktop/Universitat/Assignatures/8e quatrimestre/Algorísmia i programació Audiovisual/Examen final/Proves/filedialog.txt\n",
      "contigut del fitxer: buenos dias, que tal?\n",
      "buenos dias, enhorabuena\n"
     ]
    }
   ],
   "source": [
    "import tkinter.filedialog as fd\n",
    "# funció bàsica per tal de seleccionar un fitxer\n",
    "\n",
    "VarOpen = fd.askopenfile('r', title=\"seleccioneu un fitxer\", filetypes=[(\"Text files\", \"*.txt\"), (\"All files\", \"*.*\")])\n",
    "VarOpen\n",
    "\n",
    "print(\"Fitxer obert:\", VarOpen.name)\n",
    "# funció bàsica per tal de seleccionar un directori\n",
    "\n",
    "print(\"contigut del fitxer:\", VarOpen.read())\n",
    "VarOpen.close()\n",
    "# funció bàsica per tal de seleccionar un directori"
   ]
  },
  {
   "cell_type": "code",
   "execution_count": 20,
   "id": "4c06931d",
   "metadata": {},
   "outputs": [],
   "source": [
    "import tkinter.filedialog as fd\n",
    "\n",
    "# Your data\n",
    "my_title = \"My Note\"\n",
    "my_text = \"This is the body of the file.\"\n",
    "\n",
    "# Ask where to save\n",
    "file = fd.asksaveasfile(mode=\"w\", defaultextension=\".txt\",\n",
    "                        title=\"Desa el fitxer\",  # \"Save the file\" in Catalan\n",
    "                        initialfile=my_title,\n",
    "                        filetypes=[(\"Text files\", \"*.txt\"), (\"All files\", \"*.*\")])\n",
    "\n",
    "# If user didn't cancel\n",
    "if file:\n",
    "    file.write(my_text)\n",
    "    file.close()\n"
   ]
  },
  {
   "cell_type": "code",
   "execution_count": 14,
   "id": "e6a3a415",
   "metadata": {},
   "outputs": [
    {
     "data": {
      "text/plain": [
       "('C:/Users/98esq/Desktop/Universitat/Assignatures/8e quatrimestre/Algorísmia i programació Audiovisual/Examen final/Proves/fd_asksavefile.txt',)"
      ]
     },
     "execution_count": 14,
     "metadata": {},
     "output_type": "execute_result"
    }
   ],
   "source": [
    "fd.askopenfilenames(title=\"Selecioneu el nom d'un fitxer\", filetype=[(\"Text file\", \"*.txt\"), (\"All files\", \"*.*\")])"
   ]
  },
  {
   "cell_type": "code",
   "execution_count": 17,
   "id": "fd8f1cd4",
   "metadata": {},
   "outputs": [
    {
     "data": {
      "text/plain": [
       "((0, 64, 128), '#004080')"
      ]
     },
     "execution_count": 17,
     "metadata": {},
     "output_type": "execute_result"
    }
   ],
   "source": [
    "import tkinter.colorchooser as cc\n",
    "# funció bàsica per tal de seleccionar un color\n",
    "\n",
    "varColor = cc.askcolor(title=\"seleccioneu un color\", initialcolor=(255, 0, 0))\n",
    "varColor"
   ]
  },
  {
   "cell_type": "code",
   "execution_count": 29,
   "id": "dbbeabe7",
   "metadata": {},
   "outputs": [],
   "source": [
    "import tkinter as tk\n",
    "# comencem per entendre l'estructura bàsica d'una finestra i la seva organització en diverses parts gracies a la clase frame, grid i pack\n",
    "\n",
    "win = tk.Tk()\n",
    "\n",
    "win.mainloop()\n",
    "# finalment, fem un exemple de finestra amb un botó que tanca la finestra"
   ]
  },
  {
   "cell_type": "code",
   "execution_count": null,
   "id": "2b4b7f07",
   "metadata": {},
   "outputs": [],
   "source": [
    "import tkinter as tk\n",
    "import tkinter.filedialog as fd\n",
    "from PIL import Image, ImageTk\n",
    "\n",
    "# Ask user to select an image file\n",
    "f = fd.askopenfile(mode=\"rb\", title=\"Seleccioneu una imatge\",\n",
    "                   filetypes=[(\"Image files\", \"*.png;*.jpg;*.jpeg;*.gif\")])\n",
    "\n",
    "if f:\n",
    "    win = tk.Tk()\n",
    "\n",
    "    # Use PIL to open image from file object\n",
    "    img_raw = Image.open(f)\n",
    "    img = ImageTk.PhotoImage(img_raw)\n",
    "\n",
    "    etiqueta = tk.Label(win, text=\"NightReign\", image=img, compound=\"center\", fg =\"white\")\n",
    "    etiqueta.image = img  # prevent garbage collection\n",
    "    etiqueta.grid()\n",
    "\n",
    "    win.mainloop()\n",
    "    f.close()\n",
    "else:\n",
    "    winelse = tk.Tk()\n",
    "    etiqueta = tk.Label(winelse, text=\"No image selected\")\n",
    "    etiqueta.grid()\n",
    "    winelse.mainloop()"
   ]
  },
  {
   "cell_type": "code",
   "execution_count": 9,
   "id": "b02c0d03",
   "metadata": {},
   "outputs": [],
   "source": [
    "import tkinter as tk\n",
    "\n",
    "root = tk.Tk()\n",
    "\n",
    "top_frame = tk.Frame(root, bg=\"lightblue\")\n",
    "top_frame.pack(fill=\"both\", expand=True)\n",
    "\n",
    "bottom_frame = tk.Frame(root, bg=\"lightgreen\")\n",
    "bottom_frame.pack(fill=\"both\", expand=True)\n",
    "\n",
    "label1 = tk.Label(top_frame, text=\"I'm in the top frame\", compound=\"center\", fg=\"black\")\n",
    "label1.pack()\n",
    "\n",
    "label2 = tk.Label(bottom_frame, text=\"I'm in the bottom frame\", compound=\"center\", fg=\"black\")\n",
    "label2.pack()\n",
    "\n",
    "root.mainloop()\n"
   ]
  },
  {
   "cell_type": "code",
   "execution_count": 16,
   "id": "b9b20350",
   "metadata": {},
   "outputs": [],
   "source": [
    "import tkinter as tk\n",
    "\n",
    "root = tk.Tk()\n",
    "root.geometry(\"400x200\")\n",
    "\n",
    "# Create and place widgets\n",
    "label = tk.Label(root, text=\"Name:\", compound=\"center\")\n",
    "entry = tk.Entry(root)\n",
    "button = tk.Button(root, text=\"Submit\")\n",
    "\n",
    "label.grid(row=0, column=0, padx=10, pady=10, sticky=\"e\")\n",
    "entry.grid(row=0, column=1, padx=10, pady=10, sticky=\"we\")\n",
    "button.grid(row=1, column=0, columnspan=2, pady=10)\n",
    "\n",
    "# Make the column with the entry expand when resizing\n",
    "root.grid_columnconfigure(1, weight=1)\n",
    "\n",
    "root.mainloop()\n"
   ]
  },
  {
   "cell_type": "code",
   "execution_count": 17,
   "id": "1ecc5be2",
   "metadata": {},
   "outputs": [],
   "source": [
    "## Options habituales\n",
    "\n",
    "### optciones = dict(foreground=,background=,font=,width=,height=,anchor=,justify=,padx=,pady=,relief=,bd=,cursor=,state=,disabledforeground=)\n",
    "### tk.label(\"text\", **opciones | dict(foreground=\"black\", background=\"white\", font=(\"Arial\", 12), width=20, height=2, anchor=\"center\", justify=\"left\", padx=5, pady=5, relief=\"flat\", bd=0, cursor=\"arrow\", state=\"normal\", disabledforeground=\"grey\")\n",
    "### del optciones[\"foreground\"]"
   ]
  },
  {
   "cell_type": "code",
   "execution_count": null,
   "id": "1af38ca0",
   "metadata": {},
   "outputs": [],
   "source": [
    "import tkinter as tk\n",
    "from tkinter import ttk\n",
    "\n",
    "win = tk.Tk()\n",
    "\n",
    "# Create a style object\n",
    "style = ttk.Style()\n",
    "style.configure(\"TButton\", foreground=\"blue\", background=\"lightgrey\", font=(\"Arial\", 12), width=20, anchor=\"center\")\n",
    "# Create a button with the style\n",
    "button = ttk.Button(win, text=\"Click Me\", style=\"TButton\")\n",
    "button.grid(padx=10, pady=10)\n",
    "# Create a label with the style\n",
    "label = ttk.Label(win, text=\"This is a label\", style=\"TButton\", )\n",
    "label.grid(padx=10, pady=10)\n",
    "\n",
    "if button[\"state\"] == \"normal\":\n",
    "    button[\"state\"] = \"disabled\"\n",
    "\n",
    "win.mainloop()"
   ]
  },
  {
   "cell_type": "code",
   "execution_count": 8,
   "id": "004c8478",
   "metadata": {},
   "outputs": [],
   "source": [
    "import tkinter as tk\n",
    "from tkinter import ttk\n",
    "from PIL import Image, ImageTk\n",
    "\n",
    "win = tk.Tk()\n",
    "\n",
    "def muestra_imagen(label, imatge):\n",
    "    label.config(image=imatge)\n",
    "\n",
    "labelVis = ttk.Label(win, text=\"Imatge\", compound=\"center\")\n",
    "labelVis.grid(row=0, column=0, padx=10, pady=10)\n",
    "\n",
    "nightreign = ImageTk.PhotoImage(Image.open(\"NightReign.png\"))\n",
    "\n",
    "radio2 = ttk.Radiobutton(win, text=\"Mostrar imatge\", command=lambda: muestra_imagen(label=labelVis, imatge=nightreign))\n",
    "radio2.grid(row=1, column=0, padx=10, pady=10)\n",
    "\n",
    "win.mainloop()"
   ]
  },
  {
   "cell_type": "code",
   "execution_count": null,
   "id": "e37cd171",
   "metadata": {},
   "outputs": [],
   "source": [
    "import tkinter as tk\n",
    "from tkinter import ttk\n",
    "\n",
    "def volumen(raiz):\n",
    "    marco = ttk.LabelFrame(raiz, text='Volumen', padding=8)\n",
    "    marco.pack()\n",
    "    volumen = ttk.Scale(marco, from_=0, to=100, value=60)\n",
    "    volumen.pack()\n",
    "\n",
    "    return volumen.get()\n",
    "\n",
    "def main():\n",
    "    win = tk.Tk()\n",
    "    ttk.Style().configure('.', font=(\"Arial\", 16), background='Lavender Blush', padding=8)\n",
    "    X = volumen(win)\n",
    "\n",
    "    ttk.Label(win, text=X, font=(\"Arial\", 16), background='Lavender Blush').pack(pady=10)\n",
    "    ttk.Button(win, text='Salir', command=win.destroy).pack(pady=10)\n",
    "    win.mainloop()\n",
    "\n",
    "if __name__ == '__main__':\n",
    "    main()\n",
    "\n"
   ]
  },
  {
   "cell_type": "code",
   "execution_count": null,
   "id": "ae85f24d",
   "metadata": {},
   "outputs": [],
   "source": [
    "## Ejemplo de aplicación con comandos y variables: un reproductor sencillo de\n",
    "## audio\n",
    "\n"
   ]
  }
 ],
 "metadata": {
  "kernelspec": {
   "display_name": "Python 3",
   "language": "python",
   "name": "python3"
  },
  "language_info": {
   "codemirror_mode": {
    "name": "ipython",
    "version": 3
   },
   "file_extension": ".py",
   "mimetype": "text/x-python",
   "name": "python",
   "nbconvert_exporter": "python",
   "pygments_lexer": "ipython3",
   "version": "3.13.2"
  }
 },
 "nbformat": 4,
 "nbformat_minor": 5
}
